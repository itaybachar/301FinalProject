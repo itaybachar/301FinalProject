{
 "cells": [
  {
   "cell_type": "markdown",
   "id": "9d38886a",
   "metadata": {},
   "source": [
    "# Data Description for CTG Data\n",
    "### fetal_health (1,2,3)\n",
    "- 1: Normal\n",
    "- 2: Suspect\n",
    "- 3: Pathological"
   ]
  },
  {
   "cell_type": "markdown",
   "id": "2ed3aa5b",
   "metadata": {},
   "source": [
    "# Visual Distribution of 3 classes using bar chart:"
   ]
  },
  {
   "cell_type": "code",
   "execution_count": 28,
   "id": "25c47117",
   "metadata": {},
   "outputs": [
    {
     "data": {
      "image/png": "[encoded data removed]",
      "text/plain": [
       "<Figure size 432x288 with 1 Axes>"
      ]
     },
     "metadata": {
      "needs_background": "light"
     },
     "output_type": "display_data"
    },
    {
     "name": "stdout",
     "output_type": "stream",
     "text": [
      "Relative Frequencies of each class in whole dataset:\n",
      "1.0    0.778457\n",
      "2.0    0.138758\n",
      "3.0    0.082785\n",
      "Name: fetal_health, dtype: float64\n"
     ]
    }
   ],
   "source": [
    "import pandas as pd\n",
    "import numpy as np\n",
    "\n",
    "import matplotlib.pyplot as plt\n",
    "\n",
    "from sklearn.model_selection import train_test_split, StratifiedKFold\n",
    "\n",
    "data = pd.read_csv('data/fetal_health-1.csv')\n",
    "N = len(data['fetal_health']) # Data set size\n",
    "\n",
    "unique, counts = np.unique(data.iloc[:,-1], return_counts=True)\n",
    "#print(unique, counts)\n",
    "plt.bar(unique, counts)\n",
    "\n",
    "plt.title('Class Frequency')\n",
    "plt.xlabel('Class')\n",
    "plt.ylabel('Frequency')\n",
    "\n",
    "plt.show()\n",
    "\n",
    "print('Relative Frequencies of each class in whole dataset:')\n",
    "print(data['fetal_health'].value_counts()/N)\n",
    "\n",
    "#print(data.describe())"
   ]
  },
  {
   "cell_type": "markdown",
   "id": "5a9af5f3",
   "metadata": {},
   "source": [
    "#### Frequency of Each class (1,2,3) respectively\n",
    "1 -> 1655 (78%)\n",
    "\n",
    "2 -> 295 (14%)\n",
    "\n",
    "3 -> 176 (8%)\n",
    "\n",
    "### Now it is obvious the dataset is imbalanced and heavily leans toward Normal Outputs (1)\n",
    "We can use stratification to remedy this.\n"
   ]
  },
  {
   "cell_type": "code",
   "execution_count": 32,
   "id": "ef5e3db5",
   "metadata": {},
   "outputs": [
    {
     "data": {
      "image/png": "[encoded data removed]",
      "text/plain": [
       "<Figure size 432x288 with 1 Axes>"
      ]
     },
     "metadata": {
      "needs_background": "light"
     },
     "output_type": "display_data"
    },
    {
     "name": "stdout",
     "output_type": "stream",
     "text": [
      "Relative Frequencies of each class in train set:\n",
      "1.0    0.778226\n",
      "2.0    0.139113\n",
      "3.0    0.082661\n",
      "Name: fetal_health, dtype: float64\n",
      "Relative Frequencies of each class in test set:\n",
      "1.0    0.778997\n",
      "2.0    0.137931\n",
      "3.0    0.083072\n",
      "Name: fetal_health, dtype: float64\n"
     ]
    }
   ],
   "source": [
    "#Split data into train and test straifying on the fetal health\n",
    "#Use Stratify parameter in train_test_split\n",
    "train_data, test_data = train_test_split(data,test_size=0.3, stratify=data['fetal_health'])\n",
    "\n",
    "#Use StratifiedKFold to split our data, We wont use this really because \n",
    "#That would mean we would have to change the code to run on K fold process.\n",
    "skf = StratifiedKFold(n_splits=5)\n",
    "for train_index, test_index in skf.split(data.iloc[:,:-1],data.iloc[:,-1]):\n",
    "    #We can then split the data here and do the model testing!\n",
    "    break\n",
    "    \n",
    "\n",
    "\n",
    "#Plot Frequencies\n",
    "unique, counts = np.unique(train_data.iloc[:,-1], return_counts=True)\n",
    "#print(unique, counts)\n",
    "plt.bar(unique, counts)\n",
    "\n",
    "unique, counts = np.unique(test_data.iloc[:,-1], return_counts=True)\n",
    "#print(unique, counts)\n",
    "plt.bar(unique, counts)\n",
    "\n",
    "plt.title('Class Frequency')\n",
    "plt.xlabel('Class')\n",
    "plt.ylabel('Frequency')\n",
    "plt.legend(['Train','Test'])\n",
    "plt.show()\n",
    "\n",
    "print('Relative Frequencies of each class in train set:')\n",
    "print(train_data['fetal_health'].value_counts()/len(train_data['fetal_health']))\n",
    "\n",
    "print('Relative Frequencies of each class in test set:')\n",
    "print(test_data['fetal_health'].value_counts()/len(test_data['fetal_health']))"
   ]
  },
  {
   "cell_type": "markdown",
   "id": "eb35eb4c",
   "metadata": {},
   "source": [
    "## Result\n",
    "Now that we used the stratify parameter, our test and training split has consistent amount of data relative to the global percentages.\n"
   ]
  },
  {
   "cell_type": "markdown",
   "id": "207e6493",
   "metadata": {},
   "source": [
    "# 10 Features most reflective of fetal health\n",
    "\n",
    "## Method\n",
    "We decided to use pearson correlation to do this. The closer the absolute value of the output is to 1, the stronger the correlation.\n",
    "\n",
    "In the code, we took the last row of data which is gives me the correlation of everything with fetal_health.\n"
   ]
  },
  {
   "cell_type": "code",
   "execution_count": 3,
   "id": "4a788b5f",
   "metadata": {},
   "outputs": [
    {
     "name": "stdout",
     "output_type": "stream",
     "text": [
      "['prolongued_decelerations' 'abnormal_short_term_variability'\n",
      " 'percentage_of_time_with_abnormal_long_term_variability' 'accelerations'\n",
      " 'histogram_mode' 'histogram_mean' 'mean_value_of_long_term_variability'\n",
      " 'histogram_variance' 'histogram_median' 'uterine_contractions']\n"
     ]
    }
   ],
   "source": [
    "corr_table = data.corr()\n",
    "fh_corr = corr_table.iloc[-1,:].abs().sort_values(ascending=False).to_frame()\n",
    "best_attrib = fh_corr.index.values[1:11]\n",
    "#Print Top 10 attributes\n",
    "print(best_attrib)\n"
   ]
  },
  {
   "cell_type": "markdown",
   "id": "c421f4f1",
   "metadata": {},
   "source": [
    "## Result\n",
    "As a result of pearson correlation, we found the set above to be the most highly correlated to\n",
    "fetal healt.\n",
    "\n",
    "# Significance Testing\n",
    "We now will test if these attributes are not just randomly significant in our sample.\n",
    "\n",
    "We will use both 0.05 and 0.1 as our significance values.\n",
    "\n",
    "### Assumption\n",
    "We are currently assuming the attributes are independent."
   ]
  },
  {
   "cell_type": "code",
   "execution_count": 26,
   "id": "81512ad4",
   "metadata": {},
   "outputs": [
    {
     "name": "stdout",
     "output_type": "stream",
     "text": [
      "[ True  True]\n",
      "[ True  True]\n",
      "[ True  True]\n",
      "[ True  True]\n",
      "[ True  True]\n",
      "[ True  True]\n",
      "[ True  True]\n",
      "[ True  True]\n",
      "[ True  True]\n",
      "[ True  True]\n"
     ]
    }
   ],
   "source": [
    "from scipy.stats import ttest_ind\n",
    "\n",
    "sig_levels = (0.05,0.1)\n",
    "\n",
    "significance_test = {}\n",
    "#Last tuple in dict, will contain the results of the hypothesis testing, If True we reject the null hypothesis.\n",
    "for attrib in best_attrib:\n",
    "    t_score,p_score = ttest_ind(data[attrib],data['fetal_health'])\n",
    "    significance_test[attrib] = (t_score,p_score,p_score<=sig_levels)\n",
    "    print(significance_test[attrib][2])\n",
    "#print(significance_test)"
   ]
  },
  {
   "cell_type": "markdown",
   "id": "c443089c",
   "metadata": {},
   "source": [
    "## Result\n",
    "We can now see that for all 10 attributes, they are statistically significant on both critical values.\n",
    "\n",
    "\n",
    "\n",
    "# Model Development\n",
    "We will now create 2 models, a linear regression model and a naive bayes model."
   ]
  },
  {
   "cell_type": "code",
   "execution_count": 5,
   "id": "e2d8e2af",
   "metadata": {},
   "outputs": [
    {
     "name": "stdout",
     "output_type": "stream",
     "text": [
      "0.8275862068965517\n",
      "0.8463949843260188\n"
     ]
    }
   ],
   "source": [
    "from sklearn.naive_bayes import GaussianNB\n",
    "from sklearn.linear_model import LinearRegression\n",
    "from sklearn.metrics import accuracy_score\n",
    "\n",
    "#Convert from continous values to class values\n",
    "def reg_to_class(pred):\n",
    "    tmp = [ round(x) for x in pred ]\n",
    "    for i in range(len(tmp)):\n",
    "        if tmp[i] < 1.0:\n",
    "            tmp[i] = 1.0\n",
    "        elif tmp[i]>3.0:\n",
    "            tmp[i] = 3.0\n",
    "    return tmp\n",
    "\n",
    "#split up train data\n",
    "train_x = train_data.iloc[:,:-1]\n",
    "train_y = train_data.iloc[:,-1]\n",
    "\n",
    "#split up test data\n",
    "test_x = test_data.iloc[:,:-1]\n",
    "test_y = test_data.iloc[:,-1]\n",
    "\n",
    "# Naive Bayes\n",
    "NB_model = GaussianNB().fit(train_x,train_y)\n",
    "NB_pred = NB_model.predict(test_x)\n",
    "print(accuracy_score(NB_pred,test_y))\n",
    "\n",
    "#Linear Regression\n",
    "LR_model = LinearRegression().fit(train_x,train_y)\n",
    "LR_pred = LR_model.predict(test_x)\n",
    "LR_pred_classes = reg_to_class(LR_pred)\n",
    "\n",
    "print(accuracy_score(LR_pred_classes,test_y))"
   ]
  },
  {
   "cell_type": "markdown",
   "id": "2c3cc80a",
   "metadata": {},
   "source": [
    "## Code Overview\n",
    "Up above, we created linear regression and naive bayes models for our data.\n",
    "\n",
    "\n",
    "#### Here we are defining a helper function we found online"
   ]
  },
  {
   "cell_type": "code",
   "execution_count": 6,
   "id": "f8d6e537",
   "metadata": {},
   "outputs": [],
   "source": [
    "#function found online for multi-class confusion\n",
    "def plot_confusion_matrix(cm, classes,\n",
    "                          normalize=False,\n",
    "                          title='Confusion matrix',\n",
    "                          cmap=plt.cm.Blues):\n",
    "    \"\"\"\n",
    "    This function prints and plots the confusion matrix.\n",
    "    Normalization can be applied by setting `normalize=True`.\n",
    "    \"\"\"\n",
    "    import itertools\n",
    "    if normalize:\n",
    "        cm = cm.astype('float') / cm.sum(axis=1)[:, np.newaxis]\n",
    "        print(\"Normalized confusion matrix\")\n",
    "    else:\n",
    "        print('Confusion matrix, without normalization')\n",
    "\n",
    "    #print(cm)\n",
    "\n",
    "    plt.imshow(cm, interpolation='nearest', cmap=cmap)\n",
    "    plt.title(title)\n",
    "    plt.colorbar()\n",
    "    tick_marks = np.arange(len(classes))\n",
    "    plt.xticks(tick_marks, classes, rotation=45)\n",
    "    plt.yticks(tick_marks, classes)\n",
    "\n",
    "    fmt = '.2f' if normalize else 'd'\n",
    "    thresh = cm.max() / 2.\n",
    "    for i, j in itertools.product(range(cm.shape[0]), range(cm.shape[1])):\n",
    "        plt.text(j, i, format(cm[i, j], fmt),\n",
    "                 horizontalalignment=\"center\",\n",
    "                 color=\"white\" if cm[i, j] > thresh else \"black\")\n",
    "\n",
    "    plt.ylabel('True label')\n",
    "    plt.xlabel('Predicted label')\n",
    "    plt.tight_layout()"
   ]
  },
  {
   "cell_type": "markdown",
   "id": "de2ab8d2",
   "metadata": {},
   "source": [
    "\n",
    "# Metrics\n",
    "\n",
    "Below we will show the confusion matrices, ROC curve, F1 score, and P-R curve for both models\n",
    "\n",
    "## Naive Bayes:"
   ]
  },
  {
   "cell_type": "code",
   "execution_count": 25,
   "id": "5c12955e",
   "metadata": {},
   "outputs": [
    {
     "name": "stdout",
     "output_type": "stream",
     "text": [
      "Weighted Average F1 Score: 0.84\n",
      "Weighted Average ROC-AUC:  0.94\n",
      "Weighted Average PR-AUC:   0.91\n",
      "\n",
      "Confusion matrix, without normalization\n"
     ]
    },
    {
     "data": {
      "image/png": "[encoded data removed]",
      "text/plain": [
       "<Figure size 432x288 with 2 Axes>"
      ]
     },
     "metadata": {
      "needs_background": "light"
     },
     "output_type": "display_data"
    }
   ],
   "source": [
    "from sklearn.metrics import confusion_matrix,roc_auc_score, f1_score\n",
    "from sklearn.metrics import average_precision_score, precision_recall_curve\n",
    "from sklearn.metrics import auc, plot_precision_recall_curve, classification_report\n",
    "from sklearn.preprocessing import label_binarize\n",
    "\n",
    "#Binarizing Predictions and Expecteds\n",
    "binarized_test_y = label_binarize(test_y,classes=[1.0,2.0,3.0])\n",
    "NB_prob_pred = NB_model.predict_proba(test_x)\n",
    "\n",
    "#Calculate many metrics\n",
    "metrics = classification_report(test_y, NB_pred, digits=3,output_dict=True)\n",
    "roc_score = roc_auc_score(test_y,NB_prob_pred,multi_class='ovr',average='weighted')\n",
    "pr_auc = average_precision_score(binarized_test_y,NB_prob_pred,average='weighted')\n",
    "\n",
    "print('Weighted Average F1 Score: {:.2f}'.format(metrics['weighted avg']['f1-score']))\n",
    "print('Weighted Average ROC-AUC:  {:.2f}'.format(roc_score))\n",
    "print('Weighted Average PR-AUC:   {:.2f}\\n'.format(pr_auc))\n",
    "\n",
    "cm = confusion_matrix(test_y, NB_pred,labels=[1.0,2.0,3.0])\n",
    "plot_confusion_matrix(cm,classes=['Normal(1)','Suspect(2)','Pathological(3)'],title='Naive Bayes Prediction')"
   ]
  },
  {
   "cell_type": "markdown",
   "id": "4035695e",
   "metadata": {},
   "source": [
    "\n",
    "## Linear Regression:\n"
   ]
  },
  {
   "cell_type": "code",
   "execution_count": 24,
   "id": "76738e68",
   "metadata": {},
   "outputs": [
    {
     "name": "stdout",
     "output_type": "stream",
     "text": [
      "Weighted Average F1 Score: 0.85\n",
      "Weighted Average ROC-AUC:  0.85\n",
      "Weighted Average PR-AUC:   0.82\n",
      "\n",
      "Confusion matrix, without normalization\n"
     ]
    },
    {
     "data": {
      "image/png": "[encoded data removed]",
      "text/plain": [
       "<Figure size 432x288 with 2 Axes>"
      ]
     },
     "metadata": {
      "needs_background": "light"
     },
     "output_type": "display_data"
    }
   ],
   "source": [
    "#Binarizing Predictions and Expecteds\n",
    "binarized_pred = label_binarize(LR_pred_classes,classes=[1.0,2.0,3.0])\n",
    "\n",
    "#Calculate many metrics\n",
    "metrics = classification_report(test_y, LR_pred_classes, digits=3,output_dict=True)\n",
    "roc_score = roc_auc_score(test_y,binarized_pred,multi_class='ovr',average='weighted')\n",
    "pr_auc = average_precision_score(binarized_test_y,binarized_pred,average='weighted')\n",
    "\n",
    "print('Weighted Average F1 Score: {:.2f}'.format(metrics['weighted avg']['f1-score']))\n",
    "print('Weighted Average ROC-AUC:  {:.2f}'.format(roc_score))\n",
    "print('Weighted Average PR-AUC:   {:.2f}\\n'.format(pr_auc))\n",
    "\n",
    "cm = confusion_matrix(test_y, LR_pred_classes,labels=[1.0,2.0,3.0])\n",
    "plot_confusion_matrix(cm,classes=['Normal(1)','Suspect(2)','Pathological(3)'],title='Linear Regression Prediction')"
   ]
  },
  {
   "cell_type": "markdown",
   "id": "8e10e4ec",
   "metadata": {},
   "source": [
    "\n",
    "\n",
    "\n",
    "# A Different Approach\n",
    "\n",
    "## Clustering\n",
    "\n",
    "We can take a new unsupervised approach as well. Since our data is continous we can use k-means clustering.\n",
    "\n",
    "### K Parameter\n",
    "\n",
    "We choose to test multiple cluster sizes. k=5,10,15\n",
    "\n",
    "\n",
    "# Let's Begin\n",
    "\n",
    "\n",
    "\n",
    "\n",
    "\n",
    " "
   ]
  },
  {
   "cell_type": "code",
   "execution_count": 22,
   "id": "59aa1317",
   "metadata": {},
   "outputs": [],
   "source": [
    "from sklearn.cluster import KMeans\n",
    "\n",
    "k_lst = [5,10,15]\n",
    "\n",
    "km_models = {}\n",
    "cluster_preds = {}\n",
    "\n",
    "for k in k_lst:\n",
    "    km_models[k] = KMeans(k).fit(train_x)\n",
    "    cluster_preds[k] = km_models[k].predict(test_x)\n",
    "    \n",
    "def cluster_metrics(k):\n",
    "    #Binarizing Predictions and Expecteds\n",
    "    binarized_pred = label_binarize(cluster_preds[k],classes=[1.0,2.0,3.0])\n",
    "    #Calculate many metrics\n",
    "    metrics = classification_report(test_y, cluster_preds[k], digits=3,output_dict=True, labels=[1.0,2.0,3.0])\n",
    "    roc_score = roc_auc_score(binarized_test_y,binarized_pred,multi_class='ovr',average='weighted')\n",
    "    pr_auc = average_precision_score(binarized_test_y,binarized_pred,average='weighted')\n",
    "\n",
    "    print('Weighted Average F1 Score: {:.2f}'.format(metrics['weighted avg']['f1-score']))\n",
    "    print('Weighted Average ROC-AUC:  {:.2f}'.format(roc_score))\n",
    "    print('Weighted Average PR-AUC:   {:.2f}\\n'.format(pr_auc))\n",
    "    \n",
    "    # Confusion\n",
    "    cm = confusion_matrix(test_y, cluster_preds[k],labels=[1.0,2.0,3.0])\n",
    "    plot_confusion_matrix(cm,classes=['Normal(1)','Suspect(2)','Pathological(3)'],title='KMeans k={:} Prediction'.format(k))"
   ]
  },
  {
   "cell_type": "markdown",
   "id": "e06e2e94",
   "metadata": {},
   "source": [
    "# Let's get our metrics!"
   ]
  },
  {
   "cell_type": "code",
   "execution_count": 23,
   "id": "f5c815ee",
   "metadata": {
    "scrolled": false
   },
   "outputs": [
    {
     "name": "stdout",
     "output_type": "stream",
     "text": [
      "Weighted Average F1 Score: 0.12\n",
      "Weighted Average ROC-AUC:  0.48\n",
      "Weighted Average PR-AUC:   0.64\n",
      "\n",
      "Confusion matrix, without normalization\n"
     ]
    },
    {
     "data": {
      "image/png": "[encoded data removed]",
      "text/plain": [
       "<Figure size 432x288 with 2 Axes>"
      ]
     },
     "metadata": {
      "needs_background": "light"
     },
     "output_type": "display_data"
    }
   ],
   "source": [
    "cluster_metrics(5)\n",
    "#print(classification_report(test_y, cluster_preds[5], digits=3,labels=[1.0,2.0,3.0]))"
   ]
  },
  {
   "cell_type": "code",
   "execution_count": 18,
   "id": "2fcc40fb",
   "metadata": {
    "scrolled": false
   },
   "outputs": [
    {
     "name": "stdout",
     "output_type": "stream",
     "text": [
      "Confusion matrix, without normalization\n",
      "Weighted Average F1 Score: 0.26\n",
      "Weighted Average ROC-AUC:  0.53\n",
      "Weighted Average PR-AUC:   0.66\n"
     ]
    },
    {
     "data": {
      "image/png": "[encoded data removed]",
      "text/plain": [
       "<Figure size 432x288 with 2 Axes>"
      ]
     },
     "metadata": {
      "needs_background": "light"
     },
     "output_type": "display_data"
    }
   ],
   "source": [
    "cluster_metrics(10)\n",
    "#print(classification_report(test_y, cluster_preds[10], digits=3,labels=[1.0,2.0,3.0]))"
   ]
  },
  {
   "cell_type": "code",
   "execution_count": 19,
   "id": "e85b6cce",
   "metadata": {},
   "outputs": [
    {
     "name": "stdout",
     "output_type": "stream",
     "text": [
      "Confusion matrix, without normalization\n",
      "Weighted Average F1 Score: 0.20\n",
      "Weighted Average ROC-AUC:  0.55\n",
      "Weighted Average PR-AUC:   0.66\n"
     ]
    },
    {
     "data": {
      "image/png": "[encoded data removed]",
      "text/plain": [
       "<Figure size 432x288 with 2 Axes>"
      ]
     },
     "metadata": {
      "needs_background": "light"
     },
     "output_type": "display_data"
    }
   ],
   "source": [
    "cluster_metrics(15)\n",
    "#print(classification_report(test_y, cluster_preds[15], digits=3,labels=[1.0,2.0,3.0]))"
   ]
  },
  {
   "cell_type": "markdown",
   "id": "b00349da",
   "metadata": {},
   "source": [
    "### Observations\n",
    "\n",
    "This seems to be heavily suffering from the fact that the data is rich in class 1.\n",
    "\n",
    "The clustering model overfitted and is mostly saying any given input is of class 1."
   ]
  }
 ],
 "metadata": {
  "kernelspec": {
   "display_name": "Python 3",
   "language": "python",
   "name": "python3"
  },
  "language_info": {
   "codemirror_mode": {
    "name": "ipython",
    "version": 3
   },
   "file_extension": ".py",
   "mimetype": "text/x-python",
   "name": "python",
   "nbconvert_exporter": "python",
   "pygments_lexer": "ipython3",
   "version": "3.6.9"
  }
 },
 "nbformat": 4,
 "nbformat_minor": 5
}
